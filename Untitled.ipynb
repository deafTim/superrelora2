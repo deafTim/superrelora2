{
 "cells": [
  {
   "cell_type": "code",
   "execution_count": null,
   "id": "9e233c3e-42e5-4584-a8e5-6d5bd54b804d",
   "metadata": {},
   "outputs": [],
   "source": [
    "ls"
   ]
  },
  {
   "cell_type": "code",
   "execution_count": null,
   "id": "05828235-6ca6-43a4-9bc1-d94e5b47461b",
   "metadata": {},
   "outputs": [],
   "source": []
  }
 ],
 "metadata": {
  "kernelspec": {
   "display_name": "DataSphere Kernel",
   "language": "python",
   "name": "python3"
  },
  "language_info": {
   "name": ""
  }
 },
 "nbformat": 4,
 "nbformat_minor": 5
}
