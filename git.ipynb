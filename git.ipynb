{
 "cells": [
  {
   "cell_type": "code",
   "execution_count": 1,
   "id": "9e233c3e-42e5-4584-a8e5-6d5bd54b804d",
   "metadata": {
    "execution": {
     "iopub.execute_input": "2025-06-17T18:14:33.941013Z",
     "iopub.status.busy": "2025-06-17T18:14:33.939746Z",
     "iopub.status.idle": "2025-06-17T18:14:33.985039Z",
     "shell.execute_reply": "2025-06-17T18:14:33.983984Z",
     "shell.execute_reply.started": "2025-06-17T18:14:33.940959Z"
    }
   },
   "outputs": [
    {
     "name": "stdout",
     "output_type": "stream",
     "text": [
      "LICENSE\n",
      "README.md\n",
      "TensorBoardLoss.png\n",
      "TensorBoardLoss_Full.png\n",
      "TensorBoardLoss_Super.png\n",
      "Untitled.ipynb\n",
      "\u001b[0m\u001b[01;34mconfigs\u001b[0m/\n",
      "\u001b[01;34mdebug_results\u001b[0m/\n",
      "metrics_report.ipynb\n",
      "metrics_summary.csv\n",
      "nohup_base.out\n",
      "nohup_base_eval-Copy1.out\n",
      "nohup_base_eval.out\n",
      "nohup_full_eval.out\n",
      "nohup_superrelora_eval.out\n",
      "requirements.txt\n",
      "\u001b[01;34mresults\u001b[0m/\n",
      "\u001b[01;34mresults_full\u001b[0m/\n",
      "\u001b[01;34mscripts\u001b[0m/\n",
      "\u001b[01;34msrc\u001b[0m/\n",
      "start_a100_training.ipynb\n",
      "test_superrelora.py\n",
      "train_loss.png\n",
      "\u001b[01;34mtraining_configs\u001b[0m/\n"
     ]
    }
   ],
   "source": [
    "ls"
   ]
  },
  {
   "cell_type": "code",
   "execution_count": null,
   "id": "05828235-6ca6-43a4-9bc1-d94e5b47461b",
   "metadata": {},
   "outputs": [],
   "source": []
  },
  {
   "cell_type": "code",
   "execution_count": null,
   "id": "4ceac647-6b56-4c3f-b361-76efe372e0d6",
   "metadata": {},
   "outputs": [],
   "source": []
  },
  {
   "cell_type": "code",
   "execution_count": 5,
   "id": "158ada46-986d-4935-9363-d8ca6ccbf488",
   "metadata": {
    "execution": {
     "iopub.execute_input": "2025-06-17T18:12:38.796232Z",
     "iopub.status.busy": "2025-06-17T18:12:38.794945Z",
     "iopub.status.idle": "2025-06-17T18:12:38.939521Z",
     "shell.execute_reply": "2025-06-17T18:12:38.938524Z",
     "shell.execute_reply.started": "2025-06-17T18:12:38.796182Z"
    }
   },
   "outputs": [],
   "source": [
    "!echo \"results_full/\" >> .gitignore"
   ]
  },
  {
   "cell_type": "code",
   "execution_count": null,
   "id": "043a3e1c-ec09-4b4f-bed1-9a172a06d163",
   "metadata": {
    "tags": []
   },
   "outputs": [],
   "source": []
  },
  {
   "cell_type": "code",
   "execution_count": 2,
   "id": "3fbf6df5-6815-4e83-a33f-56e47eb64d22",
   "metadata": {
    "execution": {
     "iopub.execute_input": "2025-06-17T18:16:02.813190Z",
     "iopub.status.busy": "2025-06-17T18:16:02.811627Z",
     "iopub.status.idle": "2025-06-17T18:16:03.146926Z",
     "shell.execute_reply": "2025-06-17T18:16:03.145814Z",
     "shell.execute_reply.started": "2025-06-17T18:16:02.813135Z"
    },
    "tags": []
   },
   "outputs": [
    {
     "name": "stdout",
     "output_type": "stream",
     "text": [
      "On branch main\n",
      "Your branch is up to date with 'origin/main'.\n",
      "\n",
      "Changes not staged for commit:\n",
      "  (use \"git add/rm <file>...\" to update what will be committed)\n",
      "  (use \"git restore <file>...\" to discard changes in working directory)\n",
      "\tdeleted:    Untitled.ipynb\n",
      "\tmodified:   start_a100_training.ipynb\n",
      "\n",
      "Untracked files:\n",
      "  (use \"git add <file>...\" to include in what will be committed)\n",
      "\tgit.ipynb\n",
      "\n",
      "no changes added to commit (use \"git add\" and/or \"git commit -a\")\n"
     ]
    }
   ],
   "source": [
    "!git status"
   ]
  },
  {
   "cell_type": "code",
   "execution_count": null,
   "id": "1593363d-0bef-4f84-902c-f964b9d2fe04",
   "metadata": {},
   "outputs": [],
   "source": []
  },
  {
   "cell_type": "code",
   "execution_count": 11,
   "id": "d6088da0-8d5a-44ed-a4c5-9aef0747cf06",
   "metadata": {
    "execution": {
     "iopub.execute_input": "2025-06-17T18:14:03.779934Z",
     "iopub.status.busy": "2025-06-17T18:14:03.779103Z",
     "iopub.status.idle": "2025-06-17T18:14:04.100554Z",
     "shell.execute_reply": "2025-06-17T18:14:04.099659Z",
     "shell.execute_reply.started": "2025-06-17T18:14:03.779890Z"
    },
    "tags": []
   },
   "outputs": [],
   "source": [
    "!git add ."
   ]
  },
  {
   "cell_type": "code",
   "execution_count": null,
   "id": "cbca1e74-c30c-4db3-babf-c7a7536c1733",
   "metadata": {
    "tags": []
   },
   "outputs": [],
   "source": []
  },
  {
   "cell_type": "code",
   "execution_count": 3,
   "id": "057433e6-b67d-43d6-88fc-0349e7e1a839",
   "metadata": {
    "execution": {
     "iopub.execute_input": "2025-06-17T18:08:48.890139Z",
     "iopub.status.busy": "2025-06-17T18:08:48.889075Z",
     "iopub.status.idle": "2025-06-17T18:08:48.946629Z",
     "shell.execute_reply": "2025-06-17T18:08:48.945651Z",
     "shell.execute_reply.started": "2025-06-17T18:08:48.890086Z"
    },
    "tags": []
   },
   "outputs": [
    {
     "name": "stdout",
     "output_type": "stream",
     "text": [
      "Tim <tglukhikh@gmail.com>"
     ]
    }
   ],
   "source": [
    "!git log -1 --pretty=format:'%an <%ae>'"
   ]
  },
  {
   "cell_type": "code",
   "execution_count": 47,
   "id": "73d94975-5b3f-40f2-b6ff-62049dbfc5be",
   "metadata": {
    "execution": {
     "iopub.execute_input": "2025-06-13T11:42:39.075729Z",
     "iopub.status.busy": "2025-06-13T11:42:39.074555Z",
     "iopub.status.idle": "2025-06-13T11:42:39.115140Z",
     "shell.execute_reply": "2025-06-13T11:42:39.114203Z",
     "shell.execute_reply.started": "2025-06-13T11:42:39.075692Z"
    },
    "tags": []
   },
   "outputs": [],
   "source": [
    "!git config --global user.name \"Tim\"\n",
    "!git config --global user.email \"tglukhikh@gmail.com\""
   ]
  },
  {
   "cell_type": "code",
   "execution_count": 30,
   "id": "99c621ea-fb7e-4405-9981-9811ae1cf5c0",
   "metadata": {
    "execution": {
     "iopub.execute_input": "2025-06-12T16:36:41.604986Z",
     "iopub.status.busy": "2025-06-12T16:36:41.603729Z",
     "iopub.status.idle": "2025-06-12T16:36:41.618129Z",
     "shell.execute_reply": "2025-06-12T16:36:41.617244Z",
     "shell.execute_reply.started": "2025-06-12T16:36:41.604899Z"
    },
    "tags": []
   },
   "outputs": [],
   "source": [
    "# !git log"
   ]
  },
  {
   "cell_type": "code",
   "execution_count": 67,
   "id": "838822f0-d6d8-42b0-8d86-ffcd4811087f",
   "metadata": {
    "execution": {
     "iopub.execute_input": "2025-06-13T12:01:06.593108Z",
     "iopub.status.busy": "2025-06-13T12:01:06.592154Z",
     "iopub.status.idle": "2025-06-13T12:01:06.855746Z",
     "shell.execute_reply": "2025-06-13T12:01:06.854706Z",
     "shell.execute_reply.started": "2025-06-13T12:01:06.593059Z"
    },
    "tags": []
   },
   "outputs": [
    {
     "name": "stdout",
     "output_type": "stream",
     "text": [
      "[main 54eeed9] readme description\n",
      " 2 files changed, 59 insertions(+), 57 deletions(-)\n"
     ]
    }
   ],
   "source": [
    "!git commit -m \"readme description\""
   ]
  },
  {
   "cell_type": "code",
   "execution_count": 13,
   "id": "d16239b9-f474-4716-abb5-dca12e98714d",
   "metadata": {
    "execution": {
     "iopub.execute_input": "2025-06-17T18:14:31.999129Z",
     "iopub.status.busy": "2025-06-17T18:14:31.998184Z",
     "iopub.status.idle": "2025-06-17T18:14:32.461640Z",
     "shell.execute_reply": "2025-06-17T18:14:32.460598Z",
     "shell.execute_reply.started": "2025-06-17T18:14:31.999078Z"
    },
    "tags": []
   },
   "outputs": [
    {
     "name": "stdout",
     "output_type": "stream",
     "text": [
      "[main a9ab0e5] readme results full trained added\n",
      " 14 files changed, 3638 insertions(+), 440 deletions(-)\n",
      " create mode 100644 TensorBoardLoss_Full.png\n",
      " create mode 100644 TensorBoardLoss_Super.png\n",
      " create mode 100644 Untitled.ipynb\n",
      " create mode 100644 nohup_base.out\n",
      " rewrite nohup_base_eval.out (64%)\n",
      " create mode 100644 nohup_full_eval.out\n",
      " create mode 100644 scripts/eval_full.sh\n",
      " create mode 100644 scripts/run_base_training.sh\n"
     ]
    }
   ],
   "source": [
    "!git commit -m \"readme results full trained added\""
   ]
  },
  {
   "cell_type": "code",
   "execution_count": null,
   "id": "6b97f8c9-3bd7-4078-964b-b16f49e5eb03",
   "metadata": {
    "tags": []
   },
   "outputs": [],
   "source": []
  },
  {
   "cell_type": "code",
   "execution_count": 14,
   "id": "ac9c90dc-b3d7-41bd-ba04-d44e4b4d0c7f",
   "metadata": {
    "execution": {
     "iopub.execute_input": "2025-06-17T18:14:33.654143Z",
     "iopub.status.busy": "2025-06-17T18:14:33.653025Z",
     "iopub.status.idle": "2025-06-17T18:14:37.960148Z",
     "shell.execute_reply": "2025-06-17T18:14:37.959224Z",
     "shell.execute_reply.started": "2025-06-17T18:14:33.654086Z"
    },
    "tags": []
   },
   "outputs": [
    {
     "name": "stderr",
     "output_type": "stream",
     "text": [
      "To https://github.com/deafTim/superrelora2.git\n",
      "   54eeed9..a9ab0e5  main -> main\n"
     ]
    }
   ],
   "source": [
    "!git push"
   ]
  },
  {
   "cell_type": "code",
   "execution_count": 2,
   "id": "301c102e-0679-4880-81d3-988fb595feb6",
   "metadata": {
    "execution": {
     "iopub.execute_input": "2025-06-13T00:05:24.409300Z",
     "iopub.status.busy": "2025-06-13T00:05:24.408030Z",
     "iopub.status.idle": "2025-06-13T00:05:26.240452Z",
     "shell.execute_reply": "2025-06-13T00:05:26.239500Z",
     "shell.execute_reply.started": "2025-06-13T00:05:24.409240Z"
    },
    "tags": []
   },
   "outputs": [
    {
     "name": "stdout",
     "output_type": "stream",
     "text": [
      "Updating 9ee4ec0..056de6e\n",
      "Fast-forward\n",
      " LICENSE | 21 +++++++++++++++++++++\n",
      " 1 file changed, 21 insertions(+)\n",
      " create mode 100644 LICENSE\n"
     ]
    },
    {
     "name": "stderr",
     "output_type": "stream",
     "text": [
      "From https://github.com/deafTim/superrelora2\n",
      "   9ee4ec0..056de6e  main       -> origin/main\n"
     ]
    }
   ],
   "source": [
    "!git pull"
   ]
  },
  {
   "cell_type": "code",
   "execution_count": null,
   "id": "cf465d27-56f5-4175-9185-baac5bf8e110",
   "metadata": {},
   "outputs": [],
   "source": []
  },
  {
   "cell_type": "code",
   "execution_count": null,
   "id": "adaf4f51-4b80-4063-bdc4-71264f96cfc4",
   "metadata": {},
   "outputs": [],
   "source": []
  },
  {
   "cell_type": "code",
   "execution_count": 14,
   "id": "8903f4df-062f-4f5b-bd9a-da1b1df2c591",
   "metadata": {
    "execution": {
     "iopub.execute_input": "2025-06-17T18:14:33.654143Z",
     "iopub.status.busy": "2025-06-17T18:14:33.653025Z",
     "iopub.status.idle": "2025-06-17T18:14:37.960148Z",
     "shell.execute_reply": "2025-06-17T18:14:37.959224Z",
     "shell.execute_reply.started": "2025-06-17T18:14:33.654086Z"
    },
    "tags": []
   },
   "outputs": [
    {
     "name": "stderr",
     "output_type": "stream",
     "text": [
      "To https://github.com/deafTim/superrelora2.git\n",
      "   54eeed9..a9ab0e5  main -> main\n"
     ]
    }
   ],
   "source": [
    "!git push"
   ]
  },
  {
   "cell_type": "code",
   "execution_count": 2,
   "id": "4b0d36a3-1ec5-4b99-8ac8-1692be76ecb4",
   "metadata": {
    "execution": {
     "iopub.execute_input": "2025-06-13T00:05:24.409300Z",
     "iopub.status.busy": "2025-06-13T00:05:24.408030Z",
     "iopub.status.idle": "2025-06-13T00:05:26.240452Z",
     "shell.execute_reply": "2025-06-13T00:05:26.239500Z",
     "shell.execute_reply.started": "2025-06-13T00:05:24.409240Z"
    },
    "tags": []
   },
   "outputs": [
    {
     "name": "stdout",
     "output_type": "stream",
     "text": [
      "Updating 9ee4ec0..056de6e\n",
      "Fast-forward\n",
      " LICENSE | 21 +++++++++++++++++++++\n",
      " 1 file changed, 21 insertions(+)\n",
      " create mode 100644 LICENSE\n"
     ]
    },
    {
     "name": "stderr",
     "output_type": "stream",
     "text": [
      "From https://github.com/deafTim/superrelora2\n",
      "   9ee4ec0..056de6e  main       -> origin/main\n"
     ]
    }
   ],
   "source": [
    "!git pull"
   ]
  },
  {
   "cell_type": "code",
   "execution_count": null,
   "id": "6fbb8ded-eaf4-41b7-b9aa-1de68c650f39",
   "metadata": {},
   "outputs": [],
   "source": []
  },
  {
   "cell_type": "code",
   "execution_count": null,
   "id": "2d582a13-f4ea-4ab2-85a8-11f089d38e25",
   "metadata": {},
   "outputs": [],
   "source": []
  },
  {
   "cell_type": "code",
   "execution_count": null,
   "id": "324b3b51-cdd3-486e-8a8f-17957903b25b",
   "metadata": {},
   "outputs": [],
   "source": []
  },
  {
   "cell_type": "code",
   "execution_count": null,
   "id": "5bb8a6a1-4e8a-46fa-8f51-fedcabe9aee0",
   "metadata": {},
   "outputs": [],
   "source": []
  },
  {
   "cell_type": "code",
   "execution_count": 5,
   "id": "f568149f-fab3-4248-b02d-a785c2b596ae",
   "metadata": {
    "execution": {
     "iopub.execute_input": "2025-06-17T18:12:38.796232Z",
     "iopub.status.busy": "2025-06-17T18:12:38.794945Z",
     "iopub.status.idle": "2025-06-17T18:12:38.939521Z",
     "shell.execute_reply": "2025-06-17T18:12:38.938524Z",
     "shell.execute_reply.started": "2025-06-17T18:12:38.796182Z"
    }
   },
   "outputs": [],
   "source": [
    "!echo \"results_full/\" >> .gitignore"
   ]
  },
  {
   "cell_type": "code",
   "execution_count": null,
   "id": "abe88dc5-5ab3-4deb-a1a7-9ff394ac311d",
   "metadata": {
    "tags": []
   },
   "outputs": [],
   "source": []
  },
  {
   "cell_type": "code",
   "execution_count": 12,
   "id": "14252acd-3ec2-4097-a0b4-6d49c8a98ba7",
   "metadata": {
    "execution": {
     "iopub.execute_input": "2025-06-17T18:14:05.193439Z",
     "iopub.status.busy": "2025-06-17T18:14:05.192477Z",
     "iopub.status.idle": "2025-06-17T18:14:05.224807Z",
     "shell.execute_reply": "2025-06-17T18:14:05.224041Z",
     "shell.execute_reply.started": "2025-06-17T18:14:05.193376Z"
    },
    "tags": []
   },
   "outputs": [
    {
     "name": "stdout",
     "output_type": "stream",
     "text": [
      "On branch main\n",
      "Your branch is up to date with 'origin/main'.\n",
      "\n",
      "Changes to be committed:\n",
      "  (use \"git restore --staged <file>...\" to unstage)\n",
      "\tmodified:   .gitignore\n",
      "\tmodified:   README.md\n",
      "\tnew file:   TensorBoardLoss_Full.png\n",
      "\tnew file:   TensorBoardLoss_Super.png\n",
      "\tnew file:   Untitled.ipynb\n",
      "\tnew file:   nohup_base.out\n",
      "\tmodified:   nohup_base_eval.out\n",
      "\tnew file:   nohup_full_eval.out\n",
      "\tnew file:   scripts/eval_full.sh\n",
      "\tnew file:   scripts/run_base_training.sh\n",
      "\tmodified:   scripts/start_a100_training.sh\n",
      "\tmodified:   scripts/start_evaluation.sh\n",
      "\tmodified:   scripts/train_superrelora.py\n",
      "\tmodified:   start_a100_training.ipynb\n",
      "\n"
     ]
    }
   ],
   "source": [
    "!git status"
   ]
  },
  {
   "cell_type": "code",
   "execution_count": null,
   "id": "0594aeb1-3e6f-4502-af2b-5721a36cdb53",
   "metadata": {},
   "outputs": [],
   "source": []
  },
  {
   "cell_type": "code",
   "execution_count": 11,
   "id": "404460e9-6827-495e-a987-bb5fd3f2ee79",
   "metadata": {
    "execution": {
     "iopub.execute_input": "2025-06-17T18:14:03.779934Z",
     "iopub.status.busy": "2025-06-17T18:14:03.779103Z",
     "iopub.status.idle": "2025-06-17T18:14:04.100554Z",
     "shell.execute_reply": "2025-06-17T18:14:04.099659Z",
     "shell.execute_reply.started": "2025-06-17T18:14:03.779890Z"
    },
    "tags": []
   },
   "outputs": [],
   "source": [
    "!git add ."
   ]
  },
  {
   "cell_type": "code",
   "execution_count": null,
   "id": "a0449f81-8673-4642-9093-a5598ac29aac",
   "metadata": {
    "tags": []
   },
   "outputs": [],
   "source": []
  },
  {
   "cell_type": "code",
   "execution_count": 3,
   "id": "4e0543b8-3357-48b4-a3e5-63ce966fcd56",
   "metadata": {
    "execution": {
     "iopub.execute_input": "2025-06-17T18:08:48.890139Z",
     "iopub.status.busy": "2025-06-17T18:08:48.889075Z",
     "iopub.status.idle": "2025-06-17T18:08:48.946629Z",
     "shell.execute_reply": "2025-06-17T18:08:48.945651Z",
     "shell.execute_reply.started": "2025-06-17T18:08:48.890086Z"
    },
    "tags": []
   },
   "outputs": [
    {
     "name": "stdout",
     "output_type": "stream",
     "text": [
      "Tim <tglukhikh@gmail.com>"
     ]
    }
   ],
   "source": [
    "!git log -1 --pretty=format:'%an <%ae>'"
   ]
  },
  {
   "cell_type": "code",
   "execution_count": 47,
   "id": "a8cbf180-485a-42cb-851c-3a2c1c168fa7",
   "metadata": {
    "execution": {
     "iopub.execute_input": "2025-06-13T11:42:39.075729Z",
     "iopub.status.busy": "2025-06-13T11:42:39.074555Z",
     "iopub.status.idle": "2025-06-13T11:42:39.115140Z",
     "shell.execute_reply": "2025-06-13T11:42:39.114203Z",
     "shell.execute_reply.started": "2025-06-13T11:42:39.075692Z"
    },
    "tags": []
   },
   "outputs": [],
   "source": [
    "!git config --global user.name \"Tim\"\n",
    "!git config --global user.email \"tglukhikh@gmail.com\""
   ]
  },
  {
   "cell_type": "code",
   "execution_count": 30,
   "id": "827baf38-8b26-4317-86bb-ff3c2b377dee",
   "metadata": {
    "execution": {
     "iopub.execute_input": "2025-06-12T16:36:41.604986Z",
     "iopub.status.busy": "2025-06-12T16:36:41.603729Z",
     "iopub.status.idle": "2025-06-12T16:36:41.618129Z",
     "shell.execute_reply": "2025-06-12T16:36:41.617244Z",
     "shell.execute_reply.started": "2025-06-12T16:36:41.604899Z"
    },
    "tags": []
   },
   "outputs": [],
   "source": [
    "# !git log"
   ]
  },
  {
   "cell_type": "code",
   "execution_count": null,
   "id": "909b761a-b965-4f56-8764-c645a50b6d0d",
   "metadata": {
    "tags": []
   },
   "outputs": [],
   "source": []
  },
  {
   "cell_type": "code",
   "execution_count": 67,
   "id": "91e56b89-e4c6-4aae-8bff-db0cd10ad31f",
   "metadata": {
    "execution": {
     "iopub.execute_input": "2025-06-13T12:01:06.593108Z",
     "iopub.status.busy": "2025-06-13T12:01:06.592154Z",
     "iopub.status.idle": "2025-06-13T12:01:06.855746Z",
     "shell.execute_reply": "2025-06-13T12:01:06.854706Z",
     "shell.execute_reply.started": "2025-06-13T12:01:06.593059Z"
    },
    "tags": []
   },
   "outputs": [
    {
     "name": "stdout",
     "output_type": "stream",
     "text": [
      "[main 54eeed9] readme description\n",
      " 2 files changed, 59 insertions(+), 57 deletions(-)\n"
     ]
    }
   ],
   "source": [
    "!git commit -m \"readme description\""
   ]
  },
  {
   "cell_type": "code",
   "execution_count": 13,
   "id": "0e0e3872-0304-4d90-8fec-0ca8237746e1",
   "metadata": {
    "execution": {
     "iopub.execute_input": "2025-06-17T18:14:31.999129Z",
     "iopub.status.busy": "2025-06-17T18:14:31.998184Z",
     "iopub.status.idle": "2025-06-17T18:14:32.461640Z",
     "shell.execute_reply": "2025-06-17T18:14:32.460598Z",
     "shell.execute_reply.started": "2025-06-17T18:14:31.999078Z"
    },
    "tags": []
   },
   "outputs": [
    {
     "name": "stdout",
     "output_type": "stream",
     "text": [
      "[main a9ab0e5] readme results full trained added\n",
      " 14 files changed, 3638 insertions(+), 440 deletions(-)\n",
      " create mode 100644 TensorBoardLoss_Full.png\n",
      " create mode 100644 TensorBoardLoss_Super.png\n",
      " create mode 100644 Untitled.ipynb\n",
      " create mode 100644 nohup_base.out\n",
      " rewrite nohup_base_eval.out (64%)\n",
      " create mode 100644 nohup_full_eval.out\n",
      " create mode 100644 scripts/eval_full.sh\n",
      " create mode 100644 scripts/run_base_training.sh\n"
     ]
    }
   ],
   "source": [
    "!git commit -m \"readme results full trained added\""
   ]
  }
 ],
 "metadata": {
  "kernelspec": {
   "display_name": "DataSphere Kernel",
   "language": "python",
   "name": "python3"
  },
  "language_info": {
   "codemirror_mode": {
    "name": "ipython",
    "version": 3
   },
   "file_extension": ".py",
   "mimetype": "text/x-python",
   "name": "python",
   "nbconvert_exporter": "python",
   "pygments_lexer": "ipython3",
   "version": "3.10.12"
  }
 },
 "nbformat": 4,
 "nbformat_minor": 5
}
