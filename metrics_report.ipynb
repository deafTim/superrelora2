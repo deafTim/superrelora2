{
 "cells": [
  {
   "cell_type": "code",
   "execution_count": 1,
   "id": "27b68170-b1bb-4b61-a916-8be4a637f6b5",
   "metadata": {
    "execution": {
     "iopub.execute_input": "2025-06-13T02:50:13.282619Z",
     "iopub.status.busy": "2025-06-13T02:50:13.280878Z",
     "iopub.status.idle": "2025-06-13T02:50:13.318405Z",
     "shell.execute_reply": "2025-06-13T02:50:13.317259Z",
     "shell.execute_reply.started": "2025-06-13T02:50:13.282555Z"
    }
   },
   "outputs": [
    {
     "name": "stdout",
     "output_type": "stream",
     "text": [
      "\n"
     ]
    }
   ],
   "source": [
    "print()"
   ]
  },
  {
   "cell_type": "code",
   "execution_count": 2,
   "id": "0922b975-cd28-469b-b862-2d1a313682d6",
   "metadata": {
    "execution": {
     "iopub.execute_input": "2025-06-13T02:50:13.321377Z",
     "iopub.status.busy": "2025-06-13T02:50:13.320174Z",
     "iopub.status.idle": "2025-06-13T02:50:14.533404Z",
     "shell.execute_reply": "2025-06-13T02:50:14.532252Z",
     "shell.execute_reply.started": "2025-06-13T02:50:13.321329Z"
    }
   },
   "outputs": [],
   "source": [
    "from tensorboard.backend.event_processing import event_accumulator\n",
    "import matplotlib.pyplot as plt\n",
    "import pandas as pd\n",
    "import os"
   ]
  },
  {
   "cell_type": "code",
   "execution_count": 3,
   "id": "54643e54-192c-4f1a-ac62-b597fc116599",
   "metadata": {
    "execution": {
     "iopub.execute_input": "2025-06-13T02:50:32.282752Z",
     "iopub.status.busy": "2025-06-13T02:50:32.280189Z",
     "iopub.status.idle": "2025-06-13T02:51:00.596033Z",
     "shell.execute_reply": "2025-06-13T02:51:00.594978Z",
     "shell.execute_reply.started": "2025-06-13T02:50:32.282704Z"
    }
   },
   "outputs": [
    {
     "name": "stderr",
     "output_type": "stream",
     "text": [
      "2025-06-13 02:50:35.702947: I tensorflow/core/util/port.cc:110] oneDNN custom operations are on. You may see slightly different numerical results due to floating-point round-off errors from different computation orders. To turn them off, set the environment variable `TF_ENABLE_ONEDNN_OPTS=0`.\n",
      "2025-06-13 02:50:38.686254: I tensorflow/core/platform/cpu_feature_guard.cc:182] This TensorFlow binary is optimized to use available CPU instructions in performance-critical operations.\n",
      "To enable the following instructions: AVX2 AVX512F AVX512_VNNI FMA, in other operations, rebuild TensorFlow with the appropriate compiler flags.\n",
      "2025-06-13 02:50:47.208908: W tensorflow/compiler/tf2tensorrt/utils/py_utils.cc:38] TF-TRT Warning: Could not find TensorRT\n"
     ]
    },
    {
     "name": "stdout",
     "output_type": "stream",
     "text": [
      "📊 Scalars: ['train/loss', 'train/learning_rate', 'train/epoch', 'train/train_runtime', 'train/train_samples_per_second', 'train/train_steps_per_second', 'train/total_flos', 'train/train_loss']\n"
     ]
    }
   ],
   "source": [
    "# Укажи путь до последнего event-файла (или директории логов)\n",
    "logdir = \"results/logs\"\n",
    "\n",
    "# Загружаем логи\n",
    "ea = event_accumulator.EventAccumulator(logdir)\n",
    "ea.Reload()\n",
    "\n",
    "# Доступные скаляры\n",
    "scalars = ea.Tags()[\"scalars\"]\n",
    "print(\"📊 Scalars:\", scalars)"
   ]
  },
  {
   "cell_type": "code",
   "execution_count": 4,
   "id": "9b7c9b7d-ec26-44b8-b300-75ef47d2749a",
   "metadata": {
    "execution": {
     "iopub.execute_input": "2025-06-13T02:51:12.301650Z",
     "iopub.status.busy": "2025-06-13T02:51:12.300104Z",
     "iopub.status.idle": "2025-06-13T02:51:12.321144Z",
     "shell.execute_reply": "2025-06-13T02:51:12.320197Z",
     "shell.execute_reply.started": "2025-06-13T02:51:12.301611Z"
    }
   },
   "outputs": [],
   "source": [
    "# Вытащим train/loss\n",
    "loss_data = ea.Scalars(\"train/loss\")\n",
    "steps = [e.step for e in loss_data]\n",
    "loss_values = [e.value for e in loss_data]"
   ]
  },
  {
   "cell_type": "code",
   "execution_count": 5,
   "id": "fd6127f3-09a4-4f88-8d71-5a0d718790d6",
   "metadata": {
    "execution": {
     "iopub.execute_input": "2025-06-13T02:51:18.556611Z",
     "iopub.status.busy": "2025-06-13T02:51:18.555254Z",
     "iopub.status.idle": "2025-06-13T02:51:19.156530Z",
     "shell.execute_reply": "2025-06-13T02:51:19.155250Z",
     "shell.execute_reply.started": "2025-06-13T02:51:18.556566Z"
    }
   },
   "outputs": [
    {
     "name": "stderr",
     "output_type": "stream",
     "text": [
      "/tmp/ipykernel_2625/819809929.py:7: UserWarning: Glyph 128201 (\\N{CHART WITH DOWNWARDS TREND}) missing from font(s) DejaVu Sans.\n",
      "  plt.savefig(\"train_loss.png\")\n",
      "/tmp/ipykernel_2625/819809929.py:7: UserWarning: Glyph 128201 (\\N{CHART WITH DOWNWARDS TREND}) missing from font(s) DejaVu Sans.\n",
      "  plt.savefig(\"train_loss.png\")\n",
      "/tmp/ipykernel_2625/819809929.py:7: UserWarning: Glyph 128201 (\\N{CHART WITH DOWNWARDS TREND}) missing from font(s) DejaVu Sans.\n",
      "  plt.savefig(\"train_loss.png\")\n",
      "/kernel/lib/python3.10/site-packages/ml_kernel/_vendor/IPython/core/pylabtools.py:151: UserWarning: Glyph 128201 (\\N{CHART WITH DOWNWARDS TREND}) missing from font(s) DejaVu Sans.\n",
      "  fig.canvas.print_figure(bytes_io, **kw)\n",
      "/kernel/lib/python3.10/site-packages/ml_kernel/_vendor/IPython/core/pylabtools.py:151: UserWarning: Glyph 128201 (\\N{CHART WITH DOWNWARDS TREND}) missing from font(s) DejaVu Sans.\n",
      "  fig.canvas.print_figure(bytes_io, **kw)\n"
     ]
    },
    {
     "data": {
      "image/png": "[encoded data removed]",
      "text/plain": [
       "<Figure size 640x480 with 1 Axes>"
      ]
     },
     "metadata": {},
     "output_type": "display_data"
    }
   ],
   "source": [
    "# Построим график\n",
    "plt.plot(steps, loss_values)\n",
    "plt.xlabel(\"Step\")\n",
    "plt.ylabel(\"Train Loss\")\n",
    "plt.title(\"📉 Train Loss (SuperReLoRA)\")\n",
    "plt.grid(True)\n",
    "plt.savefig(\"train_loss.png\")\n",
    "plt.show()"
   ]
  },
  {
   "cell_type": "code",
   "execution_count": 6,
   "id": "19803c97-3f3a-4647-a230-0e14a0a3b953",
   "metadata": {
    "execution": {
     "iopub.execute_input": "2025-06-13T02:51:41.357668Z",
     "iopub.status.busy": "2025-06-13T02:51:41.356302Z",
     "iopub.status.idle": "2025-06-13T02:51:41.441668Z",
     "shell.execute_reply": "2025-06-13T02:51:41.440705Z",
     "shell.execute_reply.started": "2025-06-13T02:51:41.357611Z"
    }
   },
   "outputs": [
    {
     "data": {
      "text/html": [
       "<div>\n",
       "<style scoped>\n",
       "    .dataframe tbody tr th:only-of-type {\n",
       "        vertical-align: middle;\n",
       "    }\n",
       "\n",
       "    .dataframe tbody tr th {\n",
       "        vertical-align: top;\n",
       "    }\n",
       "\n",
       "    .dataframe thead th {\n",
       "        text-align: right;\n",
       "    }\n",
       "</style>\n",
       "<table border=\"1\" class=\"dataframe\">\n",
       "  <thead>\n",
       "    <tr style=\"text-align: right;\">\n",
       "      <th></th>\n",
       "      <th>Метрика</th>\n",
       "      <th>Значение</th>\n",
       "    </tr>\n",
       "  </thead>\n",
       "  <tbody>\n",
       "    <tr>\n",
       "      <th>0</th>\n",
       "      <td>Final Train Loss</td>\n",
       "      <td>2.4918</td>\n",
       "    </tr>\n",
       "    <tr>\n",
       "      <th>1</th>\n",
       "      <td>Final Step</td>\n",
       "      <td>1700.0000</td>\n",
       "    </tr>\n",
       "    <tr>\n",
       "      <th>2</th>\n",
       "      <td>Min Train Loss</td>\n",
       "      <td>2.4828</td>\n",
       "    </tr>\n",
       "    <tr>\n",
       "      <th>3</th>\n",
       "      <td>Max Train Loss</td>\n",
       "      <td>3.4079</td>\n",
       "    </tr>\n",
       "    <tr>\n",
       "      <th>4</th>\n",
       "      <td>Num Steps</td>\n",
       "      <td>17.0000</td>\n",
       "    </tr>\n",
       "  </tbody>\n",
       "</table>\n",
       "</div>"
      ],
      "text/plain": [
       "            Метрика   Значение\n",
       "0  Final Train Loss     2.4918\n",
       "1        Final Step  1700.0000\n",
       "2    Min Train Loss     2.4828\n",
       "3    Max Train Loss     3.4079\n",
       "4         Num Steps    17.0000"
      ]
     },
     "execution_count": 6,
     "metadata": {},
     "output_type": "execute_result"
    }
   ],
   "source": [
    "# Сохраняем финальные метрики\n",
    "final_metrics = {\n",
    "    \"Final Train Loss\": loss_values[-1],\n",
    "    \"Final Step\": steps[-1],\n",
    "    \"Min Train Loss\": min(loss_values),\n",
    "    \"Max Train Loss\": max(loss_values),\n",
    "    \"Num Steps\": len(loss_values)\n",
    "}\n",
    "\n",
    "# Таблица в pandas\n",
    "df = pd.DataFrame(list(final_metrics.items()), columns=[\"Метрика\", \"Значение\"])\n",
    "df.to_csv(\"metrics_summary.csv\", index=False)\n",
    "df\n"
   ]
  },
  {
   "cell_type": "code",
   "execution_count": null,
   "id": "99a6c5d8-0889-4fcb-a701-01ea7f36c3b0",
   "metadata": {},
   "outputs": [],
   "source": []
  }
 ],
 "metadata": {
  "kernelspec": {
   "display_name": "DataSphere Kernel",
   "language": "python",
   "name": "python3"
  },
  "language_info": {
   "codemirror_mode": {
    "name": "ipython",
    "version": 3
   },
   "file_extension": ".py",
   "mimetype": "text/x-python",
   "name": "python",
   "nbconvert_exporter": "python",
   "pygments_lexer": "ipython3",
   "version": "3.10.12"
  }
 },
 "nbformat": 4,
 "nbformat_minor": 5
}
