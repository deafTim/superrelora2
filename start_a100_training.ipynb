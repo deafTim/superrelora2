{
 "cells": [
  {
   "cell_type": "code",
   "execution_count": 2,
   "id": "8bc34f16-ad0b-4369-8871-57540397826c",
   "metadata": {
    "execution": {
     "iopub.execute_input": "2025-06-12T15:22:35.410785Z",
     "iopub.status.busy": "2025-06-12T15:22:35.409772Z",
     "iopub.status.idle": "2025-06-12T15:22:35.426329Z",
     "shell.execute_reply": "2025-06-12T15:22:35.425373Z",
     "shell.execute_reply.started": "2025-06-12T15:22:35.410737Z"
    },
    "tags": []
   },
   "outputs": [],
   "source": [
    "# %pip install datasets\n"
   ]
  },
  {
   "cell_type": "code",
   "execution_count": 3,
   "id": "a18ed2d2-2a19-44fa-89a5-e96370a6c95c",
   "metadata": {
    "execution": {
     "iopub.execute_input": "2025-06-12T15:22:37.366975Z",
     "iopub.status.busy": "2025-06-12T15:22:37.365473Z",
     "iopub.status.idle": "2025-06-12T15:22:37.402745Z",
     "shell.execute_reply": "2025-06-12T15:22:37.401790Z",
     "shell.execute_reply.started": "2025-06-12T15:22:37.366926Z"
    },
    "tags": []
   },
   "outputs": [],
   "source": [
    "# %pip install datasets transformers tqdm pyyaml\n"
   ]
  },
  {
   "cell_type": "code",
   "execution_count": 4,
   "id": "9d64d1c1-ad50-4564-b2d5-0a282d5aa4be",
   "metadata": {
    "execution": {
     "iopub.execute_input": "2025-06-12T03:31:04.472988Z",
     "iopub.status.busy": "2025-06-12T03:31:04.471692Z",
     "iopub.status.idle": "2025-06-12T03:31:04.499895Z",
     "shell.execute_reply": "2025-06-12T03:31:04.498846Z",
     "shell.execute_reply.started": "2025-06-12T03:31:04.472940Z"
    }
   },
   "outputs": [],
   "source": [
    "import os\n",
    "os.environ[\"WANDB_MODE\"] = \"disabled\"\n"
   ]
  },
  {
   "cell_type": "code",
   "execution_count": 4,
   "id": "4a6f57a9-7881-439d-9044-20b5403b817d",
   "metadata": {
    "execution": {
     "iopub.execute_input": "2025-06-12T03:42:38.977263Z",
     "iopub.status.busy": "2025-06-12T03:42:38.976864Z",
     "iopub.status.idle": "2025-06-12T03:42:38.999450Z",
     "shell.execute_reply": "2025-06-12T03:42:38.998869Z",
     "shell.execute_reply.started": "2025-06-12T03:42:38.977242Z"
    },
    "tags": []
   },
   "outputs": [],
   "source": [
    "# !bash scripts/run_on_mac_debug_datasphere.sh"
   ]
  },
  {
   "cell_type": "code",
   "execution_count": 1,
   "id": "918e1571-7fe4-4905-8aa6-7ba5675e7f09",
   "metadata": {
    "execution": {
     "iopub.execute_input": "2025-06-12T14:51:23.876971Z",
     "iopub.status.busy": "2025-06-12T14:51:23.875888Z",
     "iopub.status.idle": "2025-06-12T14:51:23.904883Z",
     "shell.execute_reply": "2025-06-12T14:51:23.903925Z",
     "shell.execute_reply.started": "2025-06-12T14:51:23.876904Z"
    },
    "tags": []
   },
   "outputs": [
    {
     "name": "stdout",
     "output_type": "stream",
     "text": [
      "README.md\n",
      "\u001b[0m\u001b[01;34mconfigs\u001b[0m/\n",
      "\u001b[01;34mdebug_results\u001b[0m/\n",
      "nohup_a100.out\n",
      "requirements.txt\n",
      "\u001b[01;34mresults\u001b[0m/\n",
      "\u001b[01;34mscripts\u001b[0m/\n",
      "\u001b[01;34msrc\u001b[0m/\n",
      "start_a100_training.ipynb\n",
      "test_superrelora.py\n",
      "\u001b[01;34mtraining_configs\u001b[0m/\n"
     ]
    }
   ],
   "source": [
    "ls"
   ]
  },
  {
   "cell_type": "code",
   "execution_count": 1,
   "id": "34974209-81d3-43b4-ba80-e2a6b47d1788",
   "metadata": {
    "execution": {
     "iopub.execute_input": "2025-06-12T04:06:37.114066Z",
     "iopub.status.busy": "2025-06-12T04:06:37.113677Z",
     "iopub.status.idle": "2025-06-12T04:06:37.148303Z",
     "shell.execute_reply": "2025-06-12T04:06:37.147549Z",
     "shell.execute_reply.started": "2025-06-12T04:06:37.114043Z"
    },
    "tags": []
   },
   "outputs": [],
   "source": [
    "# !bash scripts/start_a100_training.sh"
   ]
  },
  {
   "cell_type": "code",
   "execution_count": 3,
   "id": "2fcd0da2-32b8-4c48-ab0a-d032901c0326",
   "metadata": {
    "execution": {
     "iopub.execute_input": "2025-06-12T04:06:51.431982Z",
     "iopub.status.busy": "2025-06-12T04:06:51.431531Z",
     "iopub.status.idle": "2025-06-12T04:06:51.693176Z",
     "shell.execute_reply": "2025-06-12T04:06:51.692209Z",
     "shell.execute_reply.started": "2025-06-12T04:06:51.431961Z"
    },
    "tags": []
   },
   "outputs": [
    {
     "name": "stdout",
     "output_type": "stream",
     "text": [
      "✅ CUDA available: True\n",
      "✅ Device: cuda\n"
     ]
    }
   ],
   "source": [
    "import torch\n",
    "print(\"✅ CUDA available:\", torch.cuda.is_available())\n",
    "print(\"✅ Device:\", torch.device(\"cuda\" if torch.cuda.is_available() else \"cpu\"))"
   ]
  },
  {
   "cell_type": "code",
   "execution_count": 2,
   "id": "010c6a2a-f69f-4a25-850b-2b2298cb2da4",
   "metadata": {
    "execution": {
     "iopub.execute_input": "2025-06-12T04:06:37.149640Z",
     "iopub.status.busy": "2025-06-12T04:06:37.149305Z",
     "iopub.status.idle": "2025-06-12T04:06:51.430281Z",
     "shell.execute_reply": "2025-06-12T04:06:51.429388Z",
     "shell.execute_reply.started": "2025-06-12T04:06:37.149619Z"
    },
    "tags": []
   },
   "outputs": [],
   "source": [
    "import torch\n",
    "torch.cuda.empty_cache()\n"
   ]
  },
  {
   "cell_type": "code",
   "execution_count": null,
   "id": "3f13dc51-f7b7-4af9-b134-897eb0ca8cdb",
   "metadata": {
    "tags": []
   },
   "outputs": [],
   "source": [
    "!bash scripts/run_on_a100_datasphere.sh"
   ]
  },
  {
   "cell_type": "code",
   "execution_count": 3,
   "id": "fdbe6f1b-e5ef-4839-9646-50cb424b1f19",
   "metadata": {
    "execution": {
     "iopub.execute_input": "2025-06-12T04:00:48.808369Z",
     "iopub.status.busy": "2025-06-12T04:00:48.807521Z",
     "iopub.status.idle": "2025-06-12T04:00:48.818671Z",
     "shell.execute_reply": "2025-06-12T04:00:48.817820Z",
     "shell.execute_reply.started": "2025-06-12T04:00:48.808324Z"
    },
    "tags": []
   },
   "outputs": [],
   "source": [
    "# %pip uninstall -y torch torchvision torchaudio\n",
    "# %pip install torch torchvision torchaudio --index-url https://download.pytorch.org/whl/cu118\n"
   ]
  },
  {
   "cell_type": "code",
   "execution_count": 4,
   "id": "8b2806f3-2891-4594-bfaf-9fa1828c527d",
   "metadata": {
    "execution": {
     "iopub.execute_input": "2025-06-12T16:20:00.154Z",
     "iopub.status.busy": "2025-06-12T16:20:00.152616Z",
     "iopub.status.idle": "2025-06-12T16:20:00.217233Z",
     "shell.execute_reply": "2025-06-12T16:20:00.216108Z",
     "shell.execute_reply.started": "2025-06-12T16:20:00.153947Z"
    }
   },
   "outputs": [
    {
     "name": "stdout",
     "output_type": "stream",
     "text": [
      "README.md\n",
      "\u001b[0m\u001b[01;34mconfigs\u001b[0m/\n",
      "\u001b[01;34mdebug_results\u001b[0m/\n",
      "requirements.txt\n",
      "\u001b[01;34mresults\u001b[0m/\n",
      "\u001b[01;34mscripts\u001b[0m/\n",
      "\u001b[01;34msrc\u001b[0m/\n",
      "start_a100_training.ipynb\n",
      "test_superrelora.py\n",
      "\u001b[01;34mtraining_configs\u001b[0m/\n"
     ]
    }
   ],
   "source": [
    "ls"
   ]
  },
  {
   "cell_type": "code",
   "execution_count": null,
   "id": "08d4ddb7-a2d4-4c93-adcf-784402b92e51",
   "metadata": {},
   "outputs": [],
   "source": []
  },
  {
   "cell_type": "code",
   "execution_count": 20,
   "id": "e7b5d9bf-658e-4f3e-83c1-2a96bd36250a",
   "metadata": {
    "execution": {
     "iopub.execute_input": "2025-06-12T16:32:24.271191Z",
     "iopub.status.busy": "2025-06-12T16:32:24.269787Z",
     "iopub.status.idle": "2025-06-12T16:32:24.329311Z",
     "shell.execute_reply": "2025-06-12T16:32:24.328191Z",
     "shell.execute_reply.started": "2025-06-12T16:32:24.271136Z"
    },
    "tags": []
   },
   "outputs": [
    {
     "name": "stdout",
     "output_type": "stream",
     "text": [
      "On branch main\n",
      "Your branch is up to date with 'origin/main'.\n",
      "\n",
      "Changes not staged for commit:\n",
      "  (use \"git add <file>...\" to update what will be committed)\n",
      "  (use \"git restore <file>...\" to discard changes in working directory)\n",
      "\tmodified:   scripts/start_a100_training.sh\n",
      "\tmodified:   scripts/train_superrelora.py\n",
      "\n",
      "Untracked files:\n",
      "  (use \"git add <file>...\" to include in what will be committed)\n",
      "\tscripts/run_on_a100_datasphere.sh\n",
      "\tscripts/run_on_mac_debug_datasphere.sh\n",
      "\tstart_a100_training.ipynb\n",
      "\n",
      "no changes added to commit (use \"git add\" and/or \"git commit -a\")\n"
     ]
    }
   ],
   "source": [
    "!git status"
   ]
  },
  {
   "cell_type": "code",
   "execution_count": 18,
   "id": "710cca9d-99af-41c2-b79d-0b96f5aba4d1",
   "metadata": {
    "execution": {
     "iopub.execute_input": "2025-06-12T16:30:48.054953Z",
     "iopub.status.busy": "2025-06-12T16:30:48.053559Z",
     "iopub.status.idle": "2025-06-12T16:30:49.071173Z",
     "shell.execute_reply": "2025-06-12T16:30:49.070053Z",
     "shell.execute_reply.started": "2025-06-12T16:30:48.054901Z"
    },
    "tags": []
   },
   "outputs": [
    {
     "name": "stdout",
     "output_type": "stream",
     "text": [
      "Updating 98f51b6..57531ef\n",
      "Fast-forward\n",
      " .gitignore                     |   1 +\n",
      " scripts/eval_base_model.py     | 121 +++++++++++++++++++++++++++++++++\n",
      " scripts/eval_base_model.sh     |  17 +++++\n",
      " scripts/evaluate_checkpoint.sh |  23 +++++++\n",
      " scripts/evaluate_model.py      | 148 +++++++++++++++++++++++++++++++++++++++++\n",
      " scripts/train_superrelora.py   |   3 +\n",
      " 6 files changed, 313 insertions(+)\n",
      " create mode 100644 scripts/eval_base_model.py\n",
      " create mode 100644 scripts/eval_base_model.sh\n",
      " create mode 100644 scripts/evaluate_checkpoint.sh\n",
      " create mode 100644 scripts/evaluate_model.py\n"
     ]
    }
   ],
   "source": [
    "!git pull"
   ]
  },
  {
   "cell_type": "code",
   "execution_count": 16,
   "id": "51d7cf45-f94d-428d-9669-1aed45c29f16",
   "metadata": {
    "execution": {
     "iopub.execute_input": "2025-06-12T16:30:13.830328Z",
     "iopub.status.busy": "2025-06-12T16:30:13.828538Z",
     "iopub.status.idle": "2025-06-12T16:30:16.018783Z",
     "shell.execute_reply": "2025-06-12T16:30:16.017813Z",
     "shell.execute_reply.started": "2025-06-12T16:30:13.830268Z"
    },
    "tags": []
   },
   "outputs": [],
   "source": [
    "rm -f .git/index.lock"
   ]
  },
  {
   "cell_type": "code",
   "execution_count": null,
   "id": "8cc9b7d4-4313-43b7-b029-1b1632b7965e",
   "metadata": {},
   "outputs": [],
   "source": []
  }
 ],
 "metadata": {
  "kernelspec": {
   "display_name": "DataSphere Kernel",
   "language": "python",
   "name": "python3"
  },
  "language_info": {
   "codemirror_mode": {
    "name": "ipython",
    "version": 3
   },
   "file_extension": ".py",
   "mimetype": "text/x-python",
   "name": "python",
   "nbconvert_exporter": "python",
   "pygments_lexer": "ipython3",
   "version": "3.10.12"
  }
 },
 "nbformat": 4,
 "nbformat_minor": 5
}
