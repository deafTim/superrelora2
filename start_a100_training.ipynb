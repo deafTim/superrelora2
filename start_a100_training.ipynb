{
 "cells": [
  {
   "cell_type": "code",
   "execution_count": 2,
   "id": "8bc34f16-ad0b-4369-8871-57540397826c",
   "metadata": {
    "execution": {
     "iopub.execute_input": "2025-06-12T15:22:35.410785Z",
     "iopub.status.busy": "2025-06-12T15:22:35.409772Z",
     "iopub.status.idle": "2025-06-12T15:22:35.426329Z",
     "shell.execute_reply": "2025-06-12T15:22:35.425373Z",
     "shell.execute_reply.started": "2025-06-12T15:22:35.410737Z"
    },
    "tags": []
   },
   "outputs": [],
   "source": [
    "# %pip install datasets\n"
   ]
  },
  {
   "cell_type": "code",
   "execution_count": 3,
   "id": "a18ed2d2-2a19-44fa-89a5-e96370a6c95c",
   "metadata": {
    "execution": {
     "iopub.execute_input": "2025-06-12T15:22:37.366975Z",
     "iopub.status.busy": "2025-06-12T15:22:37.365473Z",
     "iopub.status.idle": "2025-06-12T15:22:37.402745Z",
     "shell.execute_reply": "2025-06-12T15:22:37.401790Z",
     "shell.execute_reply.started": "2025-06-12T15:22:37.366926Z"
    },
    "tags": []
   },
   "outputs": [],
   "source": [
    "# %pip install datasets transformers tqdm pyyaml\n"
   ]
  },
  {
   "cell_type": "code",
   "execution_count": 4,
   "id": "9d64d1c1-ad50-4564-b2d5-0a282d5aa4be",
   "metadata": {
    "execution": {
     "iopub.execute_input": "2025-06-12T03:31:04.472988Z",
     "iopub.status.busy": "2025-06-12T03:31:04.471692Z",
     "iopub.status.idle": "2025-06-12T03:31:04.499895Z",
     "shell.execute_reply": "2025-06-12T03:31:04.498846Z",
     "shell.execute_reply.started": "2025-06-12T03:31:04.472940Z"
    }
   },
   "outputs": [],
   "source": [
    "import os\n",
    "os.environ[\"WANDB_MODE\"] = \"disabled\"\n"
   ]
  },
  {
   "cell_type": "code",
   "execution_count": 4,
   "id": "4a6f57a9-7881-439d-9044-20b5403b817d",
   "metadata": {
    "execution": {
     "iopub.execute_input": "2025-06-12T03:42:38.977263Z",
     "iopub.status.busy": "2025-06-12T03:42:38.976864Z",
     "iopub.status.idle": "2025-06-12T03:42:38.999450Z",
     "shell.execute_reply": "2025-06-12T03:42:38.998869Z",
     "shell.execute_reply.started": "2025-06-12T03:42:38.977242Z"
    },
    "tags": []
   },
   "outputs": [],
   "source": [
    "# !bash scripts/run_on_mac_debug_datasphere.sh"
   ]
  },
  {
   "cell_type": "code",
   "execution_count": 1,
   "id": "918e1571-7fe4-4905-8aa6-7ba5675e7f09",
   "metadata": {
    "execution": {
     "iopub.execute_input": "2025-06-12T14:51:23.876971Z",
     "iopub.status.busy": "2025-06-12T14:51:23.875888Z",
     "iopub.status.idle": "2025-06-12T14:51:23.904883Z",
     "shell.execute_reply": "2025-06-12T14:51:23.903925Z",
     "shell.execute_reply.started": "2025-06-12T14:51:23.876904Z"
    },
    "tags": []
   },
   "outputs": [
    {
     "name": "stdout",
     "output_type": "stream",
     "text": [
      "README.md\n",
      "\u001b[0m\u001b[01;34mconfigs\u001b[0m/\n",
      "\u001b[01;34mdebug_results\u001b[0m/\n",
      "nohup_a100.out\n",
      "requirements.txt\n",
      "\u001b[01;34mresults\u001b[0m/\n",
      "\u001b[01;34mscripts\u001b[0m/\n",
      "\u001b[01;34msrc\u001b[0m/\n",
      "start_a100_training.ipynb\n",
      "test_superrelora.py\n",
      "\u001b[01;34mtraining_configs\u001b[0m/\n"
     ]
    }
   ],
   "source": [
    "ls"
   ]
  },
  {
   "cell_type": "code",
   "execution_count": 1,
   "id": "34974209-81d3-43b4-ba80-e2a6b47d1788",
   "metadata": {
    "execution": {
     "iopub.execute_input": "2025-06-12T04:06:37.114066Z",
     "iopub.status.busy": "2025-06-12T04:06:37.113677Z",
     "iopub.status.idle": "2025-06-12T04:06:37.148303Z",
     "shell.execute_reply": "2025-06-12T04:06:37.147549Z",
     "shell.execute_reply.started": "2025-06-12T04:06:37.114043Z"
    },
    "tags": []
   },
   "outputs": [],
   "source": [
    "# !bash scripts/start_a100_training.sh"
   ]
  },
  {
   "cell_type": "code",
   "execution_count": 3,
   "id": "2fcd0da2-32b8-4c48-ab0a-d032901c0326",
   "metadata": {
    "execution": {
     "iopub.execute_input": "2025-06-12T04:06:51.431982Z",
     "iopub.status.busy": "2025-06-12T04:06:51.431531Z",
     "iopub.status.idle": "2025-06-12T04:06:51.693176Z",
     "shell.execute_reply": "2025-06-12T04:06:51.692209Z",
     "shell.execute_reply.started": "2025-06-12T04:06:51.431961Z"
    },
    "tags": []
   },
   "outputs": [
    {
     "name": "stdout",
     "output_type": "stream",
     "text": [
      "✅ CUDA available: True\n",
      "✅ Device: cuda\n"
     ]
    }
   ],
   "source": [
    "import torch\n",
    "print(\"✅ CUDA available:\", torch.cuda.is_available())\n",
    "print(\"✅ Device:\", torch.device(\"cuda\" if torch.cuda.is_available() else \"cpu\"))"
   ]
  },
  {
   "cell_type": "code",
   "execution_count": 1,
   "id": "371d3d29-fe20-4e90-bb37-d84a31787827",
   "metadata": {
    "execution": {
     "iopub.execute_input": "2025-06-13T00:00:33.910208Z",
     "iopub.status.busy": "2025-06-13T00:00:33.908673Z",
     "iopub.status.idle": "2025-06-13T00:00:46.009103Z",
     "shell.execute_reply": "2025-06-13T00:00:46.008096Z",
     "shell.execute_reply.started": "2025-06-13T00:00:33.910156Z"
    },
    "tags": []
   },
   "outputs": [
    {
     "name": "stdout",
     "output_type": "stream",
     "text": [
      "✅ CUDA available: False\n",
      "✅ Device: cpu\n"
     ]
    }
   ],
   "source": [
    "import torch\n",
    "print(\"✅ CUDA available:\", torch.cuda.is_available())\n",
    "print(\"✅ Device:\", torch.device(\"cuda\" if torch.cuda.is_available() else \"cpu\"))"
   ]
  },
  {
   "cell_type": "code",
   "execution_count": 2,
   "id": "010c6a2a-f69f-4a25-850b-2b2298cb2da4",
   "metadata": {
    "execution": {
     "iopub.execute_input": "2025-06-12T04:06:37.149640Z",
     "iopub.status.busy": "2025-06-12T04:06:37.149305Z",
     "iopub.status.idle": "2025-06-12T04:06:51.430281Z",
     "shell.execute_reply": "2025-06-12T04:06:51.429388Z",
     "shell.execute_reply.started": "2025-06-12T04:06:37.149619Z"
    },
    "tags": []
   },
   "outputs": [],
   "source": [
    "import torch\n",
    "torch.cuda.empty_cache()\n"
   ]
  },
  {
   "cell_type": "code",
   "execution_count": null,
   "id": "3f13dc51-f7b7-4af9-b134-897eb0ca8cdb",
   "metadata": {
    "tags": []
   },
   "outputs": [],
   "source": [
    "!bash scripts/run_on_a100_datasphere.sh"
   ]
  },
  {
   "cell_type": "code",
   "execution_count": 3,
   "id": "fdbe6f1b-e5ef-4839-9646-50cb424b1f19",
   "metadata": {
    "execution": {
     "iopub.execute_input": "2025-06-12T04:00:48.808369Z",
     "iopub.status.busy": "2025-06-12T04:00:48.807521Z",
     "iopub.status.idle": "2025-06-12T04:00:48.818671Z",
     "shell.execute_reply": "2025-06-12T04:00:48.817820Z",
     "shell.execute_reply.started": "2025-06-12T04:00:48.808324Z"
    },
    "tags": []
   },
   "outputs": [],
   "source": [
    "# %pip uninstall -y torch torchvision torchaudio\n",
    "# %pip install torch torchvision torchaudio --index-url https://download.pytorch.org/whl/cu118\n"
   ]
  },
  {
   "cell_type": "code",
   "execution_count": 4,
   "id": "8b2806f3-2891-4594-bfaf-9fa1828c527d",
   "metadata": {
    "execution": {
     "iopub.execute_input": "2025-06-12T16:20:00.154Z",
     "iopub.status.busy": "2025-06-12T16:20:00.152616Z",
     "iopub.status.idle": "2025-06-12T16:20:00.217233Z",
     "shell.execute_reply": "2025-06-12T16:20:00.216108Z",
     "shell.execute_reply.started": "2025-06-12T16:20:00.153947Z"
    }
   },
   "outputs": [
    {
     "name": "stdout",
     "output_type": "stream",
     "text": [
      "README.md\n",
      "\u001b[0m\u001b[01;34mconfigs\u001b[0m/\n",
      "\u001b[01;34mdebug_results\u001b[0m/\n",
      "requirements.txt\n",
      "\u001b[01;34mresults\u001b[0m/\n",
      "\u001b[01;34mscripts\u001b[0m/\n",
      "\u001b[01;34msrc\u001b[0m/\n",
      "start_a100_training.ipynb\n",
      "test_superrelora.py\n",
      "\u001b[01;34mtraining_configs\u001b[0m/\n"
     ]
    }
   ],
   "source": [
    "ls"
   ]
  },
  {
   "cell_type": "code",
   "execution_count": 49,
   "id": "08d4ddb7-a2d4-4c93-adcf-784402b92e51",
   "metadata": {
    "execution": {
     "iopub.execute_input": "2025-06-13T11:42:46.067500Z",
     "iopub.status.busy": "2025-06-13T11:42:46.066083Z",
     "iopub.status.idle": "2025-06-13T11:42:46.194188Z",
     "shell.execute_reply": "2025-06-13T11:42:46.193315Z",
     "shell.execute_reply.started": "2025-06-13T11:42:46.067447Z"
    },
    "tags": []
   },
   "outputs": [],
   "source": [
    "!git add ."
   ]
  },
  {
   "cell_type": "code",
   "execution_count": 50,
   "id": "e7b5d9bf-658e-4f3e-83c1-2a96bd36250a",
   "metadata": {
    "execution": {
     "iopub.execute_input": "2025-06-13T11:42:47.487293Z",
     "iopub.status.busy": "2025-06-13T11:42:47.485966Z",
     "iopub.status.idle": "2025-06-13T11:42:47.514623Z",
     "shell.execute_reply": "2025-06-13T11:42:47.513797Z",
     "shell.execute_reply.started": "2025-06-13T11:42:47.487248Z"
    },
    "tags": []
   },
   "outputs": [
    {
     "name": "stdout",
     "output_type": "stream",
     "text": [
      "On branch main\n",
      "Your branch is up to date with 'origin/main'.\n",
      "\n",
      "Changes to be committed:\n",
      "  (use \"git restore --staged <file>...\" to unstage)\n",
      "\tmodified:   README.md\n",
      "\tnew file:   metrics_report.ipynb\n",
      "\tnew file:   metrics_summary.csv\n",
      "\tnew file:   nohup_base_eval-Copy1.out\n",
      "\tnew file:   nohup_base_eval.out\n",
      "\tnew file:   nohup_superrelora_eval.out\n",
      "\tmodified:   scripts/eval_base_model.py\n",
      "\tmodified:   scripts/eval_base_model.sh\n",
      "\tmodified:   scripts/eval_superrelora.py\n",
      "\tmodified:   scripts/eval_superrelora.sh\n",
      "\tmodified:   scripts/evaluate_checkpoint.sh\n",
      "\tnew file:   scripts/start_evaluation.sh\n",
      "\tmodified:   src/superrelora_model.py\n",
      "\tmodified:   start_a100_training.ipynb\n",
      "\tnew file:   train_loss.png\n",
      "\n"
     ]
    }
   ],
   "source": [
    "!git status"
   ]
  },
  {
   "cell_type": "code",
   "execution_count": 24,
   "id": "6f6efe01-7739-4ce6-b4e2-f51937bd8bbb",
   "metadata": {
    "execution": {
     "iopub.execute_input": "2025-06-12T16:35:37.461059Z",
     "iopub.status.busy": "2025-06-12T16:35:37.459912Z",
     "iopub.status.idle": "2025-06-12T16:35:37.505678Z",
     "shell.execute_reply": "2025-06-12T16:35:37.504514Z",
     "shell.execute_reply.started": "2025-06-12T16:35:37.461011Z"
    }
   },
   "outputs": [
    {
     "name": "stdout",
     "output_type": "stream",
     "text": [
      "Tim <tglukhikh@gmail.com>"
     ]
    }
   ],
   "source": [
    "!git log -1 --pretty=format:'%an <%ae>'"
   ]
  },
  {
   "cell_type": "code",
   "execution_count": 47,
   "id": "6930afcc-26e9-4a1e-b4e9-be53d4f66739",
   "metadata": {
    "execution": {
     "iopub.execute_input": "2025-06-13T11:42:39.075729Z",
     "iopub.status.busy": "2025-06-13T11:42:39.074555Z",
     "iopub.status.idle": "2025-06-13T11:42:39.115140Z",
     "shell.execute_reply": "2025-06-13T11:42:39.114203Z",
     "shell.execute_reply.started": "2025-06-13T11:42:39.075692Z"
    },
    "tags": []
   },
   "outputs": [],
   "source": [
    "!git config --global user.name \"Tim\"\n",
    "!git config --global user.email \"tglukhikh@gmail.com\""
   ]
  },
  {
   "cell_type": "code",
   "execution_count": 30,
   "id": "a7b1518c-3076-4afd-b1dd-8d994f52024f",
   "metadata": {
    "execution": {
     "iopub.execute_input": "2025-06-12T16:36:41.604986Z",
     "iopub.status.busy": "2025-06-12T16:36:41.603729Z",
     "iopub.status.idle": "2025-06-12T16:36:41.618129Z",
     "shell.execute_reply": "2025-06-12T16:36:41.617244Z",
     "shell.execute_reply.started": "2025-06-12T16:36:41.604899Z"
    },
    "tags": []
   },
   "outputs": [],
   "source": [
    "# !git log"
   ]
  },
  {
   "cell_type": "code",
   "execution_count": 51,
   "id": "295da450-4657-49d9-a208-f418e6fd0646",
   "metadata": {
    "execution": {
     "iopub.execute_input": "2025-06-13T11:42:49.693523Z",
     "iopub.status.busy": "2025-06-13T11:42:49.692166Z",
     "iopub.status.idle": "2025-06-13T11:42:49.823021Z",
     "shell.execute_reply": "2025-06-13T11:42:49.822022Z",
     "shell.execute_reply.started": "2025-06-13T11:42:49.693473Z"
    },
    "tags": []
   },
   "outputs": [
    {
     "name": "stdout",
     "output_type": "stream",
     "text": [
      "[main 0c2354b] Log metrics (loss, perplexity, accuracy) and add training loss plot\n",
      " 15 files changed, 2631 insertions(+), 87 deletions(-)\n",
      " create mode 100644 metrics_report.ipynb\n",
      " create mode 100644 metrics_summary.csv\n",
      " create mode 100644 nohup_base_eval-Copy1.out\n",
      " create mode 100644 nohup_base_eval.out\n",
      " create mode 100644 nohup_superrelora_eval.out\n",
      " mode change 100644 => 100755 scripts/eval_base_model.sh\n",
      " create mode 100644 scripts/start_evaluation.sh\n",
      " create mode 100644 train_loss.png\n"
     ]
    }
   ],
   "source": [
    "!git commit -m \"Log metrics (loss, perplexity, accuracy) and add training loss plot\""
   ]
  },
  {
   "cell_type": "code",
   "execution_count": null,
   "id": "6c754957-5ad4-47ff-9297-39738b992c46",
   "metadata": {
    "tags": []
   },
   "outputs": [],
   "source": []
  },
  {
   "cell_type": "code",
   "execution_count": null,
   "id": "66a0864b-c3a2-40d9-bbeb-f346206fe4b2",
   "metadata": {
    "tags": []
   },
   "outputs": [],
   "source": []
  },
  {
   "cell_type": "code",
   "execution_count": 52,
   "id": "b457cbd7-749b-4de1-900a-c07f5d24c73e",
   "metadata": {
    "execution": {
     "iopub.execute_input": "2025-06-13T11:42:52.160269Z",
     "iopub.status.busy": "2025-06-13T11:42:52.159111Z",
     "iopub.status.idle": "2025-06-13T11:42:53.336762Z",
     "shell.execute_reply": "2025-06-13T11:42:53.335723Z",
     "shell.execute_reply.started": "2025-06-13T11:42:52.160221Z"
    },
    "tags": []
   },
   "outputs": [
    {
     "name": "stderr",
     "output_type": "stream",
     "text": [
      "To https://github.com/deafTim/superrelora2.git\n",
      "   056de6e..0c2354b  main -> main\n"
     ]
    }
   ],
   "source": [
    "!git push"
   ]
  },
  {
   "cell_type": "code",
   "execution_count": 2,
   "id": "710cca9d-99af-41c2-b79d-0b96f5aba4d1",
   "metadata": {
    "execution": {
     "iopub.execute_input": "2025-06-13T00:05:24.409300Z",
     "iopub.status.busy": "2025-06-13T00:05:24.408030Z",
     "iopub.status.idle": "2025-06-13T00:05:26.240452Z",
     "shell.execute_reply": "2025-06-13T00:05:26.239500Z",
     "shell.execute_reply.started": "2025-06-13T00:05:24.409240Z"
    },
    "tags": []
   },
   "outputs": [
    {
     "name": "stdout",
     "output_type": "stream",
     "text": [
      "Updating 9ee4ec0..056de6e\n",
      "Fast-forward\n",
      " LICENSE | 21 +++++++++++++++++++++\n",
      " 1 file changed, 21 insertions(+)\n",
      " create mode 100644 LICENSE\n"
     ]
    },
    {
     "name": "stderr",
     "output_type": "stream",
     "text": [
      "From https://github.com/deafTim/superrelora2\n",
      "   9ee4ec0..056de6e  main       -> origin/main\n"
     ]
    }
   ],
   "source": [
    "!git pull"
   ]
  },
  {
   "cell_type": "code",
   "execution_count": 16,
   "id": "51d7cf45-f94d-428d-9669-1aed45c29f16",
   "metadata": {
    "execution": {
     "iopub.execute_input": "2025-06-12T16:30:13.830328Z",
     "iopub.status.busy": "2025-06-12T16:30:13.828538Z",
     "iopub.status.idle": "2025-06-12T16:30:16.018783Z",
     "shell.execute_reply": "2025-06-12T16:30:16.017813Z",
     "shell.execute_reply.started": "2025-06-12T16:30:13.830268Z"
    },
    "tags": []
   },
   "outputs": [],
   "source": [
    "rm -f .git/index.lock"
   ]
  },
  {
   "cell_type": "code",
   "execution_count": null,
   "id": "8cc9b7d4-4313-43b7-b029-1b1632b7965e",
   "metadata": {},
   "outputs": [],
   "source": []
  },
  {
   "cell_type": "code",
   "execution_count": 3,
   "id": "cc6a96e5-762a-4fbd-947c-39c6b598cf20",
   "metadata": {
    "execution": {
     "iopub.execute_input": "2025-06-13T00:06:59.421045Z",
     "iopub.status.busy": "2025-06-13T00:06:59.419771Z",
     "iopub.status.idle": "2025-06-13T00:06:59.452782Z",
     "shell.execute_reply": "2025-06-13T00:06:59.451758Z",
     "shell.execute_reply.started": "2025-06-13T00:06:59.420998Z"
    }
   },
   "outputs": [
    {
     "name": "stdout",
     "output_type": "stream",
     "text": [
      "LICENSE\n",
      "README.md\n",
      "\u001b[0m\u001b[01;34mconfigs\u001b[0m/\n",
      "\u001b[01;34mdebug_results\u001b[0m/\n",
      "requirements.txt\n",
      "\u001b[01;34mresults\u001b[0m/\n",
      "\u001b[01;34mscripts\u001b[0m/\n",
      "\u001b[01;34msrc\u001b[0m/\n",
      "start_a100_training.ipynb\n",
      "test_superrelora.py\n",
      "\u001b[01;34mtraining_configs\u001b[0m/\n"
     ]
    }
   ],
   "source": [
    "ls"
   ]
  },
  {
   "cell_type": "code",
   "execution_count": 42,
   "id": "7b4e85c6-1e90-423a-bb4a-69f2f4857c2c",
   "metadata": {
    "execution": {
     "iopub.execute_input": "2025-06-13T08:31:26.682051Z",
     "iopub.status.busy": "2025-06-13T08:31:26.680953Z",
     "iopub.status.idle": "2025-06-13T08:31:26.717008Z",
     "shell.execute_reply": "2025-06-13T08:31:26.716036Z",
     "shell.execute_reply.started": "2025-06-13T08:31:26.682000Z"
    },
    "tags": []
   },
   "outputs": [],
   "source": [
    "# !chmod +x scripts/eval_base_model.sh"
   ]
  },
  {
   "cell_type": "code",
   "execution_count": null,
   "id": "662be120-d105-4416-9189-f71c9de44d5c",
   "metadata": {},
   "outputs": [],
   "source": []
  },
  {
   "cell_type": "code",
   "execution_count": 44,
   "id": "102ff08d-915b-44aa-b4e3-6357730baf4d",
   "metadata": {
    "execution": {
     "iopub.execute_input": "2025-06-13T10:13:30.360529Z",
     "iopub.status.busy": "2025-06-13T10:13:30.359128Z",
     "iopub.status.idle": "2025-06-13T10:13:30.529802Z",
     "shell.execute_reply": "2025-06-13T10:13:30.528488Z",
     "shell.execute_reply.started": "2025-06-13T10:13:30.360477Z"
    },
    "tags": []
   },
   "outputs": [
    {
     "name": "stdout",
     "output_type": "stream",
     "text": [
      "Starting SuperReLoRA evaluation...\n",
      "SuperReLoRA evaluation started in background. Logs: nohup_superrelora_eval.out\n"
     ]
    }
   ],
   "source": [
    "!bash scripts/start_evaluation.sh"
   ]
  },
  {
   "cell_type": "code",
   "execution_count": null,
   "id": "94fe8c4b-7d35-40d5-af64-a773cba75c7f",
   "metadata": {},
   "outputs": [],
   "source": []
  },
  {
   "cell_type": "code",
   "execution_count": null,
   "id": "fd91211b-722b-4fac-a1c6-3f76d5f25ffb",
   "metadata": {},
   "outputs": [],
   "source": []
  },
  {
   "cell_type": "code",
   "execution_count": 12,
   "id": "55a8fe1c-7213-4340-bfc0-84fbda66915c",
   "metadata": {
    "execution": {
     "iopub.execute_input": "2025-06-13T01:05:48.431628Z",
     "iopub.status.busy": "2025-06-13T01:05:48.430651Z",
     "iopub.status.idle": "2025-06-13T01:06:01.704501Z",
     "shell.execute_reply": "2025-06-13T01:06:01.703188Z",
     "shell.execute_reply.started": "2025-06-13T01:05:48.431578Z"
    },
    "tags": []
   },
   "outputs": [
    {
     "name": "stdout",
     "output_type": "stream",
     "text": [
      "\n",
      "Using device: cpu\n",
      "\n",
      "Loading base model and tokenizer...\n",
      "Model loaded successfully!\n",
      "\n",
      "Loading dataset...\n",
      "Dataset loaded with 100 examples\n",
      "\n",
      "Tokenizing dataset...\n",
      "Tokenization complete!\n",
      "Created dataloader with 7 batches\n",
      "\n",
      "Starting metrics computation...\n",
      "\n",
      "Starting evaluation on 7 batches...\n"
     ]
    },
    {
     "name": "stderr",
     "output_type": "stream",
     "text": [
      "/home/jupyter/.local/lib/python3.10/site-packages/huggingface_hub/file_download.py:896: FutureWarning: `resume_download` is deprecated and will be removed in version 1.0.0. Downloads always resume when possible. If you want to force a new download, use `force_download=True`.\n",
      "  warnings.warn(\n",
      "Some weights of LlamaForCausalLM were not initialized from the model checkpoint at nicholasKluge/TeenyTinyLlama-160m and are newly initialized: ['model.layers.6.self_attn.rotary_emb.inv_freq', 'model.layers.2.self_attn.rotary_emb.inv_freq', 'model.layers.1.self_attn.rotary_emb.inv_freq', 'model.layers.7.self_attn.rotary_emb.inv_freq', 'model.layers.5.self_attn.rotary_emb.inv_freq', 'model.layers.10.self_attn.rotary_emb.inv_freq', 'model.layers.3.self_attn.rotary_emb.inv_freq', 'model.layers.4.self_attn.rotary_emb.inv_freq', 'model.layers.0.self_attn.rotary_emb.inv_freq', 'model.layers.9.self_attn.rotary_emb.inv_freq', 'model.layers.8.self_attn.rotary_emb.inv_freq', 'model.layers.11.self_attn.rotary_emb.inv_freq']\n",
      "You should probably TRAIN this model on a down-stream task to be able to use it for predictions and inference.\n",
      "/home/jupyter/.local/lib/python3.10/site-packages/huggingface_hub/file_download.py:896: FutureWarning: `resume_download` is deprecated and will be removed in version 1.0.0. Downloads always resume when possible. If you want to force a new download, use `force_download=True`.\n",
      "  warnings.warn(\n",
      "Map: 100%|██████████| 100/100 [00:00<00:00, 2291.89 examples/s]\n",
      "Computing metrics:   0%|          | 0/7 [00:00<?, ?it/s]\n",
      "Traceback (most recent call last):\n",
      "  File \"/home/jupyter/work/resources/superrelora2/scripts/eval_base_model.py\", line 153, in <module>\n",
      "    main() \n",
      "  File \"/home/jupyter/work/resources/superrelora2/scripts/eval_base_model.py\", line 133, in main\n",
      "    loss, perplexity, accuracy = compute_metrics(model, dataloader, device)\n",
      "  File \"/home/jupyter/work/resources/superrelora2/scripts/eval_base_model.py\", line 30, in compute_metrics\n",
      "    input_ids = torch.tensor(batch['input_ids']).to(device)\n",
      "TypeError: only integer tensors of a single element can be converted to an index\n"
     ]
    },
    {
     "ename": "Exception",
     "evalue": "Process exited with code 1",
     "output_type": "error",
     "traceback": [
      "\u001b[0;31m---------------------------------------------------------------------------\u001b[0m",
      "\u001b[0;31mException\u001b[0m                                 Traceback (most recent call last)",
      "\u001b[0;32m/tmp/ipykernel_3094/2742550514.py\u001b[0m in \u001b[0;36m<cell line: 1>\u001b[0;34m()\u001b[0m\n\u001b[0;32m----> 1\u001b[0;31m \u001b[0mget_ipython\u001b[0m\u001b[0;34m(\u001b[0m\u001b[0;34m)\u001b[0m\u001b[0;34m.\u001b[0m\u001b[0msystem\u001b[0m\u001b[0;34m(\u001b[0m\u001b[0;34m'bash ./scripts/eval_base_model.sh'\u001b[0m\u001b[0;34m)\u001b[0m\u001b[0;34m\u001b[0m\u001b[0;34m\u001b[0m\u001b[0m\n\u001b[0m",
      "\u001b[0;32m/kernel/lib/python3.10/site-packages/ml_kernel/kernel.py\u001b[0m in \u001b[0;36m<lambda>\u001b[0;34m(code)\u001b[0m\n\u001b[1;32m    192\u001b[0m \u001b[0;34m\u001b[0m\u001b[0m\n\u001b[1;32m    193\u001b[0m         \u001b[0mself\u001b[0m\u001b[0;34m.\u001b[0m\u001b[0m_script_executor\u001b[0m \u001b[0;34m=\u001b[0m \u001b[0mScriptExecutor\u001b[0m\u001b[0;34m(\u001b[0m\u001b[0mget_output_error_code\u001b[0m\u001b[0;34m)\u001b[0m\u001b[0;34m\u001b[0m\u001b[0;34m\u001b[0m\u001b[0m\n\u001b[0;32m--> 194\u001b[0;31m         \u001b[0mself\u001b[0m\u001b[0;34m.\u001b[0m\u001b[0mshell\u001b[0m\u001b[0;34m.\u001b[0m\u001b[0msystem\u001b[0m \u001b[0;34m=\u001b[0m \u001b[0;32mlambda\u001b[0m \u001b[0mcode\u001b[0m\u001b[0;34m:\u001b[0m \u001b[0mself\u001b[0m\u001b[0;34m.\u001b[0m\u001b[0m_script_executor\u001b[0m\u001b[0;34m.\u001b[0m\u001b[0mexecute\u001b[0m\u001b[0;34m(\u001b[0m\u001b[0;34m\"bash\"\u001b[0m\u001b[0;34m,\u001b[0m \u001b[0mcode\u001b[0m\u001b[0;34m)\u001b[0m\u001b[0;34m\u001b[0m\u001b[0;34m\u001b[0m\u001b[0m\n\u001b[0m\u001b[1;32m    195\u001b[0m \u001b[0;34m\u001b[0m\u001b[0m\n\u001b[1;32m    196\u001b[0m     \u001b[0;32mdef\u001b[0m \u001b[0m_init_user_ns\u001b[0m\u001b[0;34m(\u001b[0m\u001b[0mself\u001b[0m\u001b[0;34m)\u001b[0m\u001b[0;34m:\u001b[0m\u001b[0;34m\u001b[0m\u001b[0;34m\u001b[0m\u001b[0m\n",
      "\u001b[0;32m/kernel/lib/python3.10/site-packages/ml_kernel/script_executor.py\u001b[0m in \u001b[0;36mexecute\u001b[0;34m(self, lang, code)\u001b[0m\n\u001b[1;32m     41\u001b[0m         \u001b[0mreturn_code\u001b[0m \u001b[0;34m=\u001b[0m \u001b[0mself\u001b[0m\u001b[0;34m.\u001b[0m\u001b[0mdo_execute\u001b[0m\u001b[0;34m(\u001b[0m\u001b[0mcode\u001b[0m\u001b[0;34m)\u001b[0m\u001b[0;34m\u001b[0m\u001b[0;34m\u001b[0m\u001b[0m\n\u001b[1;32m     42\u001b[0m         \u001b[0;32mif\u001b[0m \u001b[0mreturn_code\u001b[0m \u001b[0;34m!=\u001b[0m \u001b[0;36m0\u001b[0m\u001b[0;34m:\u001b[0m\u001b[0;34m\u001b[0m\u001b[0;34m\u001b[0m\u001b[0m\n\u001b[0;32m---> 43\u001b[0;31m             \u001b[0;32mraise\u001b[0m \u001b[0mException\u001b[0m\u001b[0;34m(\u001b[0m\u001b[0;34m'Process exited with code %d'\u001b[0m \u001b[0;34m%\u001b[0m \u001b[0mreturn_code\u001b[0m\u001b[0;34m)\u001b[0m\u001b[0;34m\u001b[0m\u001b[0;34m\u001b[0m\u001b[0m\n\u001b[0m",
      "\u001b[0;31mException\u001b[0m: Process exited with code 1"
     ]
    }
   ],
   "source": [
    "# !bash ./scripts/eval_base_model.sh"
   ]
  },
  {
   "cell_type": "code",
   "execution_count": null,
   "id": "31d5af8a-7259-4f3a-88dd-87dbc1a6ef82",
   "metadata": {},
   "outputs": [],
   "source": []
  }
 ],
 "metadata": {
  "kernelspec": {
   "display_name": "DataSphere Kernel",
   "language": "python",
   "name": "python3"
  },
  "language_info": {
   "codemirror_mode": {
    "name": "ipython",
    "version": 3
   },
   "file_extension": ".py",
   "mimetype": "text/x-python",
   "name": "python",
   "nbconvert_exporter": "python",
   "pygments_lexer": "ipython3",
   "version": "3.10.12"
  }
 },
 "nbformat": 4,
 "nbformat_minor": 5
}
